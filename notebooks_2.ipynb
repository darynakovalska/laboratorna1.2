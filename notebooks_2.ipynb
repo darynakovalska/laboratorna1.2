{
  "metadata": {
    "language_info": {
      "codemirror_mode": {
        "name": "python",
        "version": 3
      },
      "file_extension": ".py",
      "mimetype": "text/x-python",
      "name": "python",
      "nbconvert_exporter": "python",
      "pygments_lexer": "ipython3",
      "version": "3.8"
    },
    "kernelspec": {
      "name": "python",
      "display_name": "Python (Pyodide)",
      "language": "python"
    }
  },
  "nbformat_minor": 4,
  "nbformat": 4,
  "cells": [
    {
      "cell_type": "code",
      "source": "def check_number(num):\n    if isinstance(num, (int, float)):\n        if num % 2 == 0:\n            return \"Парне\"\n        else:\n            return \"Непарне\"\n    else:\n        return \"\"\n    \nresult1 = check_number(7)     \nresult2 = check_number(12)     \nresult3 = check_number(\"xdd\")  \n\nprint(result1)\nprint(result2)\nprint(result3)",
      "metadata": {
        "trusted": true
      },
      "execution_count": 1,
      "outputs": [
        {
          "name": "stdout",
          "text": "Непарне\nПарне\n\n",
          "output_type": "stream"
        }
      ]
    },
    {
      "cell_type": "code",
      "source": "",
      "metadata": {},
      "execution_count": null,
      "outputs": []
    }
  ]
}